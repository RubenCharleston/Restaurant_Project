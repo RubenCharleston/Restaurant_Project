{
 "cells": [
  {
   "cell_type": "code",
   "execution_count": 4,
   "id": "479ccf53",
   "metadata": {},
   "outputs": [],
   "source": [
    "import pandas as pd\n",
    "import requests\n",
    "import json"
   ]
  },
  {
   "cell_type": "code",
   "execution_count": 9,
   "id": "329df816",
   "metadata": {},
   "outputs": [],
   "source": [
    "df = pd.read_csv(\"Restaurants.csv\")\n",
    "key = 'EajNMtWefpIR0O4fRtkY2KnzgbmZyEyH'\n",
    "\n",
    "\n",
    "\n",
    "# response=requests.get(\"http://www.mapquestapi.com/geocoding/v1/address\",params=parameters)\n",
    "# print(response.text)\n",
    "\n",
    "for i, row in df.iterrows():\n",
    "    apiAddress = str(df.at[i,'street'])+','+str(df.at[i,'zipCode'])+','+str(df.at[i,'city'])+','+str(df.at[i,'country'])\n",
    "    parameters = {\n",
    "        \"key\":key,\n",
    "        \"location\":apiAddress\n",
    "    }\n",
    "    \n",
    "    response=requests.get(\"http://www.mapquestapi.com/geocoding/v1/address\",params=parameters)\n",
    "    data = response.text\n",
    "    dataJson = json.loads(data)['results']\n",
    "    lat = (dataJson[0]['locations'][0]['latLng']['lat'])\n",
    "    lng = (dataJson[0]['locations'][0]['latLng']['lng'])\n",
    "    \n",
    "    df.at[i,'lat'] = lat\n",
    "    df.at[i,'long'] = lng\n",
    "    \n",
    "df.to_csv('Restaurants_Geo.csv')"
   ]
  },
  {
   "cell_type": "code",
   "execution_count": null,
   "id": "1d9e29c6",
   "metadata": {},
   "outputs": [],
   "source": []
  }
 ],
 "metadata": {
  "kernelspec": {
   "display_name": "Python 3 (ipykernel)",
   "language": "python",
   "name": "python3"
  },
  "language_info": {
   "codemirror_mode": {
    "name": "ipython",
    "version": 3
   },
   "file_extension": ".py",
   "mimetype": "text/x-python",
   "name": "python",
   "nbconvert_exporter": "python",
   "pygments_lexer": "ipython3",
   "version": "3.11.4"
  }
 },
 "nbformat": 4,
 "nbformat_minor": 5
}
