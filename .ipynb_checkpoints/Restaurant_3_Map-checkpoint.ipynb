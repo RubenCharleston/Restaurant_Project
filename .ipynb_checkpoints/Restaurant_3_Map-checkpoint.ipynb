{
 "cells": [
  {
   "cell_type": "code",
   "execution_count": 1,
   "id": "205f7160",
   "metadata": {},
   "outputs": [],
   "source": [
    "#pip install folium"
   ]
  },
  {
   "cell_type": "code",
   "execution_count": 2,
   "id": "5a8768d4",
   "metadata": {},
   "outputs": [],
   "source": [
    "import pandas as pd\n",
    "import folium"
   ]
  },
  {
   "cell_type": "code",
   "execution_count": 3,
   "id": "5ac61130",
   "metadata": {},
   "outputs": [],
   "source": [
    "df = pd.read_csv(\"Restaurants_Geo.csv\", encoding='utf-8')\n",
    "\n",
    "m = folium.Map(location=[52.52,13.40], tiles='OpenStreetMap', zoom_start=11)\n",
    "\n",
    "for i, row in df.iterrows():\n",
    "    lat = df.at[i,'lat']\n",
    "    lng = df.at[i,'long']\n",
    "    \n",
    "    restaurant = df.at[i,'restaurant']\n",
    "    popupText = (str(df.at[i,'restaurant'])) + '<br>' + str(df.at[i,'street']) + '<br>' + str(df.at[i,'zipCode']) + ' ' + str(df.at[i,'city'])\n",
    "        \n",
    "    if restaurant=='Subway':\n",
    "        color='lightgreen'\n",
    "    elif restaurant=='Starbucks':\n",
    "        color='darkgreen'\n",
    "    else:\n",
    "        color='orange'\n",
    "        \n",
    "    folium.Marker(location=[lat, lng],popup=popupText, icon=folium.Icon(color=color)).add_to(m)\n",
    "    \n",
    "m.save(\"index.html\")"
   ]
  },
  {
   "cell_type": "code",
   "execution_count": 4,
   "id": "250ee19b",
   "metadata": {},
   "outputs": [],
   "source": [
    "# folium.Marker(location=[52.52,13.40],\n",
    "#              popup='Marker Test',\n",
    "#              icon=folium.Icon(color='red')).add_to(m)\n",
    "# m.save(\"index.html\")"
   ]
  },
  {
   "cell_type": "code",
   "execution_count": null,
   "id": "e933009d",
   "metadata": {},
   "outputs": [],
   "source": []
  }
 ],
 "metadata": {
  "kernelspec": {
   "display_name": "Python 3 (ipykernel)",
   "language": "python",
   "name": "python3"
  },
  "language_info": {
   "codemirror_mode": {
    "name": "ipython",
    "version": 3
   },
   "file_extension": ".py",
   "mimetype": "text/x-python",
   "name": "python",
   "nbconvert_exporter": "python",
   "pygments_lexer": "ipython3",
   "version": "3.11.4"
  }
 },
 "nbformat": 4,
 "nbformat_minor": 5
}
