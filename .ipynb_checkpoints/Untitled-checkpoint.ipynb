{
 "cells": [
  {
   "cell_type": "code",
   "execution_count": 1,
   "id": "abbed54c",
   "metadata": {},
   "outputs": [],
   "source": [
    "#pip install selenium"
   ]
  },
  {
   "cell_type": "code",
   "execution_count": 2,
   "id": "c69bf08e",
   "metadata": {},
   "outputs": [],
   "source": [
    "from selenium import webdriver\n",
    "from selenium.webdriver.common.keys import Keys\n",
    "from selenium.webdriver.common.by import By\n",
    "from selenium.webdriver.support.ui import WebDriverWait\n",
    "from selenium.webdriver.support import expected_conditions as EC\n",
    "from time import sleep\n",
    "import csv"
   ]
  },
  {
   "cell_type": "code",
   "execution_count": 3,
   "id": "7603364c",
   "metadata": {},
   "outputs": [],
   "source": [
    "starbucksUrl = 'https://www.starbucks.de/de/store-locator'\n",
    "driver = webdriver.Chrome()\n",
    "driver.get(starbucksUrl);\n",
    "sleep(5)\n",
    "#print(driver.page_source)"
   ]
  },
  {
   "cell_type": "code",
   "execution_count": 4,
   "id": "b8c2aafe",
   "metadata": {},
   "outputs": [],
   "source": [
    "#sleep(5)\n",
    "driver.switch_to.frame(1)\n",
    "#iframe = driver.find_element(By.ID, \"pop-frame07440156932986723\") driver.switch_to.frame(iframe)\n",
    "#print(driver.page_source)\n",
    "sleep(5)"
   ]
  },
  {
   "cell_type": "code",
   "execution_count": null,
   "id": "097d41f5",
   "metadata": {},
   "outputs": [],
   "source": []
  },
  {
   "cell_type": "code",
   "execution_count": 5,
   "id": "0922ca02",
   "metadata": {},
   "outputs": [
    {
     "ename": "NoSuchElementException",
     "evalue": "Message: no such element: Unable to locate element: {\"method\":\"xpath\",\"selector\":\"//a[@class=\"required\" and @role=\"button\"]\"}\n  (Session info: chrome=130.0.6723.70); For documentation on this error, please visit: https://www.selenium.dev/documentation/webdriver/troubleshooting/errors#no-such-element-exception\nStacktrace:\n\tGetHandleVerifier [0x00007FF73B8D3AB5+28005]\n\t(No symbol) [0x00007FF73B8383B0]\n\t(No symbol) [0x00007FF73B6D580A]\n\t(No symbol) [0x00007FF73B725A3E]\n\t(No symbol) [0x00007FF73B725D2C]\n\t(No symbol) [0x00007FF73B76EA97]\n\t(No symbol) [0x00007FF73B74BA7F]\n\t(No symbol) [0x00007FF73B76B8B3]\n\t(No symbol) [0x00007FF73B74B7E3]\n\t(No symbol) [0x00007FF73B7175C8]\n\t(No symbol) [0x00007FF73B718731]\n\tGetHandleVerifier [0x00007FF73BBC643D+3118829]\n\tGetHandleVerifier [0x00007FF73BC16C90+3448640]\n\tGetHandleVerifier [0x00007FF73BC0CF0D+3408317]\n\tGetHandleVerifier [0x00007FF73B99A40B+841403]\n\t(No symbol) [0x00007FF73B84340F]\n\t(No symbol) [0x00007FF73B83F484]\n\t(No symbol) [0x00007FF73B83F61D]\n\t(No symbol) [0x00007FF73B82EB79]\n\tBaseThreadInitThunk [0x00007FF845847374+20]\n\tRtlUserThreadStart [0x00007FF846C5CC91+33]\n",
     "output_type": "error",
     "traceback": [
      "\u001b[1;31m---------------------------------------------------------------------------\u001b[0m",
      "\u001b[1;31mNoSuchElementException\u001b[0m                    Traceback (most recent call last)",
      "Cell \u001b[1;32mIn[5], line 3\u001b[0m\n\u001b[0;32m      1\u001b[0m \u001b[38;5;66;03m#Accepting all cookies\u001b[39;00m\n\u001b[1;32m----> 3\u001b[0m button \u001b[38;5;241m=\u001b[39m driver\u001b[38;5;241m.\u001b[39mfind_element(By\u001b[38;5;241m.\u001b[39mXPATH,  \u001b[38;5;124m'\u001b[39m\u001b[38;5;124m//a[@class=\u001b[39m\u001b[38;5;124m\"\u001b[39m\u001b[38;5;124mrequired\u001b[39m\u001b[38;5;124m\"\u001b[39m\u001b[38;5;124m and @role=\u001b[39m\u001b[38;5;124m\"\u001b[39m\u001b[38;5;124mbutton\u001b[39m\u001b[38;5;124m\"\u001b[39m\u001b[38;5;124m]\u001b[39m\u001b[38;5;124m'\u001b[39m)\n\u001b[0;32m      4\u001b[0m button\u001b[38;5;241m.\u001b[39mclick()\n\u001b[0;32m      5\u001b[0m driver\u001b[38;5;241m.\u001b[39mswitch_to\u001b[38;5;241m.\u001b[39mdefault_content()\n",
      "File \u001b[1;32m~\\anaconda3\\Lib\\site-packages\\selenium\\webdriver\\remote\\webdriver.py:748\u001b[0m, in \u001b[0;36mWebDriver.find_element\u001b[1;34m(self, by, value)\u001b[0m\n\u001b[0;32m    745\u001b[0m     by \u001b[38;5;241m=\u001b[39m By\u001b[38;5;241m.\u001b[39mCSS_SELECTOR\n\u001b[0;32m    746\u001b[0m     value \u001b[38;5;241m=\u001b[39m \u001b[38;5;124mf\u001b[39m\u001b[38;5;124m'\u001b[39m\u001b[38;5;124m[name=\u001b[39m\u001b[38;5;124m\"\u001b[39m\u001b[38;5;132;01m{\u001b[39;00mvalue\u001b[38;5;132;01m}\u001b[39;00m\u001b[38;5;124m\"\u001b[39m\u001b[38;5;124m]\u001b[39m\u001b[38;5;124m'\u001b[39m\n\u001b[1;32m--> 748\u001b[0m \u001b[38;5;28;01mreturn\u001b[39;00m \u001b[38;5;28mself\u001b[39m\u001b[38;5;241m.\u001b[39mexecute(Command\u001b[38;5;241m.\u001b[39mFIND_ELEMENT, {\u001b[38;5;124m\"\u001b[39m\u001b[38;5;124musing\u001b[39m\u001b[38;5;124m\"\u001b[39m: by, \u001b[38;5;124m\"\u001b[39m\u001b[38;5;124mvalue\u001b[39m\u001b[38;5;124m\"\u001b[39m: value})[\u001b[38;5;124m\"\u001b[39m\u001b[38;5;124mvalue\u001b[39m\u001b[38;5;124m\"\u001b[39m]\n",
      "File \u001b[1;32m~\\anaconda3\\Lib\\site-packages\\selenium\\webdriver\\remote\\webdriver.py:354\u001b[0m, in \u001b[0;36mWebDriver.execute\u001b[1;34m(self, driver_command, params)\u001b[0m\n\u001b[0;32m    352\u001b[0m response \u001b[38;5;241m=\u001b[39m \u001b[38;5;28mself\u001b[39m\u001b[38;5;241m.\u001b[39mcommand_executor\u001b[38;5;241m.\u001b[39mexecute(driver_command, params)\n\u001b[0;32m    353\u001b[0m \u001b[38;5;28;01mif\u001b[39;00m response:\n\u001b[1;32m--> 354\u001b[0m     \u001b[38;5;28mself\u001b[39m\u001b[38;5;241m.\u001b[39merror_handler\u001b[38;5;241m.\u001b[39mcheck_response(response)\n\u001b[0;32m    355\u001b[0m     response[\u001b[38;5;124m\"\u001b[39m\u001b[38;5;124mvalue\u001b[39m\u001b[38;5;124m\"\u001b[39m] \u001b[38;5;241m=\u001b[39m \u001b[38;5;28mself\u001b[39m\u001b[38;5;241m.\u001b[39m_unwrap_value(response\u001b[38;5;241m.\u001b[39mget(\u001b[38;5;124m\"\u001b[39m\u001b[38;5;124mvalue\u001b[39m\u001b[38;5;124m\"\u001b[39m, \u001b[38;5;28;01mNone\u001b[39;00m))\n\u001b[0;32m    356\u001b[0m     \u001b[38;5;28;01mreturn\u001b[39;00m response\n",
      "File \u001b[1;32m~\\anaconda3\\Lib\\site-packages\\selenium\\webdriver\\remote\\errorhandler.py:229\u001b[0m, in \u001b[0;36mErrorHandler.check_response\u001b[1;34m(self, response)\u001b[0m\n\u001b[0;32m    227\u001b[0m         alert_text \u001b[38;5;241m=\u001b[39m value[\u001b[38;5;124m\"\u001b[39m\u001b[38;5;124malert\u001b[39m\u001b[38;5;124m\"\u001b[39m]\u001b[38;5;241m.\u001b[39mget(\u001b[38;5;124m\"\u001b[39m\u001b[38;5;124mtext\u001b[39m\u001b[38;5;124m\"\u001b[39m)\n\u001b[0;32m    228\u001b[0m     \u001b[38;5;28;01mraise\u001b[39;00m exception_class(message, screen, stacktrace, alert_text)  \u001b[38;5;66;03m# type: ignore[call-arg]  # mypy is not smart enough here\u001b[39;00m\n\u001b[1;32m--> 229\u001b[0m \u001b[38;5;28;01mraise\u001b[39;00m exception_class(message, screen, stacktrace)\n",
      "\u001b[1;31mNoSuchElementException\u001b[0m: Message: no such element: Unable to locate element: {\"method\":\"xpath\",\"selector\":\"//a[@class=\"required\" and @role=\"button\"]\"}\n  (Session info: chrome=130.0.6723.70); For documentation on this error, please visit: https://www.selenium.dev/documentation/webdriver/troubleshooting/errors#no-such-element-exception\nStacktrace:\n\tGetHandleVerifier [0x00007FF73B8D3AB5+28005]\n\t(No symbol) [0x00007FF73B8383B0]\n\t(No symbol) [0x00007FF73B6D580A]\n\t(No symbol) [0x00007FF73B725A3E]\n\t(No symbol) [0x00007FF73B725D2C]\n\t(No symbol) [0x00007FF73B76EA97]\n\t(No symbol) [0x00007FF73B74BA7F]\n\t(No symbol) [0x00007FF73B76B8B3]\n\t(No symbol) [0x00007FF73B74B7E3]\n\t(No symbol) [0x00007FF73B7175C8]\n\t(No symbol) [0x00007FF73B718731]\n\tGetHandleVerifier [0x00007FF73BBC643D+3118829]\n\tGetHandleVerifier [0x00007FF73BC16C90+3448640]\n\tGetHandleVerifier [0x00007FF73BC0CF0D+3408317]\n\tGetHandleVerifier [0x00007FF73B99A40B+841403]\n\t(No symbol) [0x00007FF73B84340F]\n\t(No symbol) [0x00007FF73B83F484]\n\t(No symbol) [0x00007FF73B83F61D]\n\t(No symbol) [0x00007FF73B82EB79]\n\tBaseThreadInitThunk [0x00007FF845847374+20]\n\tRtlUserThreadStart [0x00007FF846C5CC91+33]\n"
     ]
    }
   ],
   "source": [
    "\n",
    "#Accepting all cookies\n",
    "\n",
    "button = driver.find_element(By.XPATH,  '//a[@class=\"required\" and @role=\"button\"]')\n",
    "button.click()\n",
    "driver.switch_to.default_content();"
   ]
  },
  {
   "cell_type": "code",
   "execution_count": null,
   "id": "6d86788e",
   "metadata": {},
   "outputs": [],
   "source": [
    "#Closing the Cookies window\n",
    "sleep(5)\n",
    "driver.switch_to.frame(1)\n",
    "#print(driver.page_source)\n",
    "button = driver.find_element(By.XPATH,  '//a[@class=\"close\"]')\n",
    "button.click()\n",
    "driver.switch_to.default_content();"
   ]
  },
  {
   "cell_type": "code",
   "execution_count": null,
   "id": "de7a2f57",
   "metadata": {},
   "outputs": [],
   "source": [
    "#Writes Berlin Deutschland in the textbox and selects the first dropdown option\n",
    "sleep(5)\n",
    "\n",
    "inputFormula = driver.find_element(\"id\",\":R1b7rpjsipfnja:\")\n",
    "inputFormula.send_keys('Berlin Deutschland')\n",
    "#inputFormula.send_keys(Keys.ENTER)\n",
    "sleep(5)\n",
    "\n",
    "dropdown_option = WebDriverWait(driver, 10).until(\n",
    "    EC.element_to_be_clickable((By.XPATH, \"//button[contains(@class, 'O16StoreSearch_prediction__RnXo3')]\"))\n",
    ")\n",
    "\n",
    "dropdown_option.click()\n",
    "\n",
    "driver.switch_to.default_content();"
   ]
  },
  {
   "cell_type": "code",
   "execution_count": null,
   "id": "286a369c",
   "metadata": {},
   "outputs": [],
   "source": [
    "sleep(5)\n",
    "\n",
    "away = WebDriverWait(driver, 10).until(\n",
    "    EC.element_to_be_clickable((By.XPATH, \"//button[contains(@title, 'Alejar')]\"))\n",
    ")\n",
    "\n",
    "away.click()\n",
    "sleep(2)\n",
    "away.click()\n",
    "sleep(2)\n",
    "away.click()\n",
    "\n",
    "#driver.switch_to.default_content();"
   ]
  },
  {
   "cell_type": "code",
   "execution_count": null,
   "id": "4f44d32a",
   "metadata": {},
   "outputs": [],
   "source": [
    "#HAS TO RUN TWICE TO GET THE LIST\n",
    "resultList = driver.find_elements(By.CLASS_NAME, \"O19StoreList_copy__rWRTr\")\n",
    "#resultSize = len(resultList)\n",
    "#iterations = int(resultSize/2)\n",
    "iterations = len(resultList)\n",
    "\n",
    "results = []\n"
   ]
  },
  {
   "cell_type": "code",
   "execution_count": null,
   "id": "32dbecec",
   "metadata": {},
   "outputs": [],
   "source": [
    "resultList = driver.find_elements(By.CLASS_NAME, \"O19StoreList_copy__rWRTr\")\n",
    "#resultSize = len(resultList)\n",
    "#iterations = int(resultSize/2)\n",
    "iterations = len(resultList)\n",
    "\n",
    "results = []"
   ]
  },
  {
   "cell_type": "code",
   "execution_count": null,
   "id": "830809eb",
   "metadata": {},
   "outputs": [],
   "source": [
    "for i in range(0,iterations-1):\n",
    "    #Click info button (probably not necessary in 2024 version)\n",
    "    #infoBtn = resultList[i].find_element(By.CLASS_NAME, \"abstract-button\")\n",
    "    #driver.execute_script(\"arguments[0].click();\", infoBtn)\n",
    "    #Get Address and append to List (check current class name)\n",
    "    getStoreAddress = driver.find_elements(By.TAG_NAME, \"address\")\n",
    "    results.append(getStoreAddress[i].text)\n",
    "    #Click exit button (probably not necessary)\n",
    "    #exitDiv = driver.find_elements(By.CLASS_NAME, \"store-finder-store-header\")\n",
    "    #exitBtn = exitDiv[0].find_elements(By.CLASS_NAME, \"abstract-button\")\n",
    "    #driver.execute_script(\"arguments[0].click();\", exitBtn)\n",
    "    \n",
    "#driver.close()"
   ]
  },
  {
   "cell_type": "code",
   "execution_count": null,
   "id": "8a0fc3e6",
   "metadata": {},
   "outputs": [],
   "source": [
    "print(results)"
   ]
  },
  {
   "cell_type": "code",
   "execution_count": null,
   "id": "ec7ab13e",
   "metadata": {},
   "outputs": [],
   "source": [
    "len(results)"
   ]
  },
  {
   "cell_type": "code",
   "execution_count": null,
   "id": "76421e1a",
   "metadata": {},
   "outputs": [],
   "source": [
    "#In original project the address was in 2 lines, on the 2025 version\n",
    "#only one line with the address and City, have to separate properly\n",
    "with open('Restaurants.csv', mode='w', newline='')as outputFile:\n",
    "    restaurantCSV = csv.writer(outputFile, delimiter=',', quotechar='\"', quoting = csv.QUOTE_MINIMAL)\n",
    "    restaurantCSV.writerow(['restaurant','street','city','country'])\n",
    "    restaurantName = 'Starbucks'\n",
    "    country='Germany'\n",
    "    for restaurant in results:\n",
    "        street = restaurant.rsplit(' ', 1)[0]\n",
    "        #zipCode = restaurant.split(\"\\n\")[1][0:5]\n",
    "        city = 'Berlin'\n",
    "        restaurantCSV.writerow([restaurantName, street, city, country])"
   ]
  },
  {
   "cell_type": "code",
   "execution_count": null,
   "id": "30844263",
   "metadata": {},
   "outputs": [],
   "source": [
    "driver.close()"
   ]
  },
  {
   "cell_type": "code",
   "execution_count": null,
   "id": "833bcb8d",
   "metadata": {},
   "outputs": [],
   "source": [
    "driver.webdriver.Chrome()\n",
    "driver.get('https://www.mcdonalds.com/de/de-de/restaurant-suche.html/l/berlin');\n",
    "sleep(10)\n",
    "restaurantList = driver.find_elements(By.CLASS_NAME, \"ubsf_sitemap-location-address\")\n",
    "\n",
    "with open('Restaurants.csv', mode='a', newline='') as outputFile:\n",
    "    restaurantCSV = csv.writer(outputFile, delimiter=',', quotechar='\"', quoting = csv.QUOTE_MINIMAL)\n",
    "    restaurantName = 'McDonalds'\n",
    "    country = 'Germany'\n",
    "    for restaurant in restaurantList:\n",
    "        restaurant = restaurant.get_attribute('innerHTML')\n",
    "        street = restaurant.split(\",\")[0]\n",
    "        zipCode = restaurant.split(\",\")[1][1:6]\n",
    "        city = restaurant.split(\",\")[1][7:]\n",
    "        restaurantCSV.writerow([restaurantName, street, zipCode, city, country])\n",
    "        \n",
    "driver.close()\n"
   ]
  },
  {
   "cell_type": "code",
   "execution_count": null,
   "id": "06ec0a76",
   "metadata": {},
   "outputs": [],
   "source": []
  }
 ],
 "metadata": {
  "kernelspec": {
   "display_name": "Python 3 (ipykernel)",
   "language": "python",
   "name": "python3"
  },
  "language_info": {
   "codemirror_mode": {
    "name": "ipython",
    "version": 3
   },
   "file_extension": ".py",
   "mimetype": "text/x-python",
   "name": "python",
   "nbconvert_exporter": "python",
   "pygments_lexer": "ipython3",
   "version": "3.11.4"
  }
 },
 "nbformat": 4,
 "nbformat_minor": 5
}
