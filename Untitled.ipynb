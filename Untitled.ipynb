{
 "cells": [
  {
   "cell_type": "code",
   "execution_count": 1,
   "id": "abbed54c",
   "metadata": {},
   "outputs": [],
   "source": [
    "#pip install selenium"
   ]
  },
  {
   "cell_type": "code",
   "execution_count": 2,
   "id": "c69bf08e",
   "metadata": {},
   "outputs": [],
   "source": [
    "from selenium import webdriver\n",
    "from selenium.webdriver.common.keys import Keys\n",
    "from selenium.webdriver.common.by import By\n",
    "from selenium.webdriver.support.ui import WebDriverWait\n",
    "from selenium.webdriver.support import expected_conditions as EC\n",
    "from time import sleep\n",
    "import csv"
   ]
  },
  {
   "cell_type": "code",
   "execution_count": 3,
   "id": "7603364c",
   "metadata": {},
   "outputs": [],
   "source": [
    "starbucksUrl = 'https://www.starbucks.de/de/store-locator'\n",
    "driver = webdriver.Chrome()\n",
    "driver.get(starbucksUrl);\n",
    "sleep(5)\n",
    "#print(driver.page_source)"
   ]
  },
  {
   "cell_type": "code",
   "execution_count": 4,
   "id": "b8c2aafe",
   "metadata": {},
   "outputs": [],
   "source": [
    "#sleep(5)\n",
    "driver.switch_to.frame(1)\n",
    "# iframe = driver.find_element(By.ID, \"pop-frame07440156932986723\")\n",
    "# driver.switch_to.frame(iframe)\n",
    "#print(driver.page_source)"
   ]
  },
  {
   "cell_type": "code",
   "execution_count": null,
   "id": "097d41f5",
   "metadata": {},
   "outputs": [],
   "source": []
  },
  {
   "cell_type": "code",
   "execution_count": 5,
   "id": "0922ca02",
   "metadata": {},
   "outputs": [],
   "source": [
    "\n",
    "#Accepting all cookies\n",
    "sleep(5)\n",
    "button = driver.find_element(By.XPATH,  '//a[@class=\"required\" and @role=\"button\"]')\n",
    "button.click()\n",
    "driver.switch_to.default_content();"
   ]
  },
  {
   "cell_type": "code",
   "execution_count": 6,
   "id": "6d86788e",
   "metadata": {},
   "outputs": [],
   "source": [
    "#Closing the Cookies window\n",
    "sleep(5)\n",
    "driver.switch_to.frame(1)\n",
    "#print(driver.page_source)\n",
    "button = driver.find_element(By.XPATH,  '//a[@class=\"close\"]')\n",
    "button.click()\n",
    "driver.switch_to.default_content();"
   ]
  },
  {
   "cell_type": "code",
   "execution_count": 7,
   "id": "de7a2f57",
   "metadata": {},
   "outputs": [],
   "source": [
    "#Writes Berlin Deutschland in the textbox and selects the first dropdown option\n",
    "sleep(5)\n",
    "\n",
    "inputFormula = driver.find_element(\"id\",\":R1b7rpjsipfnja:\")\n",
    "inputFormula.send_keys('Berlin Deutschland')\n",
    "#inputFormula.send_keys(Keys.ENTER)\n",
    "sleep(5)\n",
    "\n",
    "dropdown_option = WebDriverWait(driver, 10).until(\n",
    "    EC.element_to_be_clickable((By.XPATH, \"//button[contains(@class, 'O16StoreSearch_prediction__RnXo3')]\"))\n",
    ")\n",
    "\n",
    "dropdown_option.click()\n",
    "\n",
    "driver.switch_to.default_content();"
   ]
  },
  {
   "cell_type": "code",
   "execution_count": 8,
   "id": "286a369c",
   "metadata": {},
   "outputs": [],
   "source": [
    "sleep(5)\n",
    "\n",
    "away = WebDriverWait(driver, 10).until(\n",
    "    EC.element_to_be_clickable((By.XPATH, \"//button[contains(@title, 'Alejar')]\"))\n",
    ")\n",
    "\n",
    "away.click()\n",
    "sleep(2)\n",
    "away.click()\n",
    "sleep(2)\n",
    "away.click()\n",
    "\n",
    "#driver.switch_to.default_content();"
   ]
  },
  {
   "cell_type": "code",
   "execution_count": 18,
   "id": "4f44d32a",
   "metadata": {},
   "outputs": [],
   "source": [
    "#HAS TO RUN TWICE TO GET THE LIST\n",
    "resultList = driver.find_elements(By.CLASS_NAME, \"O19StoreList_copy__rWRTr\")\n",
    "#resultSize = len(resultList)\n",
    "#iterations = int(resultSize/2)\n",
    "iterations = len(resultList)\n",
    "\n",
    "results = []\n"
   ]
  },
  {
   "cell_type": "code",
   "execution_count": 19,
   "id": "830809eb",
   "metadata": {},
   "outputs": [],
   "source": [
    "for i in range(0,iterations-1):\n",
    "    #Click info button (probably not necessary in 2024 version)\n",
    "    #infoBtn = resultList[i].find_element(By.CLASS_NAME, \"abstract-button\")\n",
    "    #driver.execute_script(\"arguments[0].click();\", infoBtn)\n",
    "    #Get Address and append to List (check current class name)\n",
    "    getStoreAddress = driver.find_elements(By.TAG_NAME, \"address\")\n",
    "    results.append(getStoreAddress[i].text)\n",
    "    #Click exit button (probably not necessary)\n",
    "    #exitDiv = driver.find_elements(By.CLASS_NAME, \"store-finder-store-header\")\n",
    "    #exitBtn = exitDiv[0].find_elements(By.CLASS_NAME, \"abstract-button\")\n",
    "    #driver.execute_script(\"arguments[0].click();\", exitBtn)\n",
    "    \n",
    "driver.close()"
   ]
  },
  {
   "cell_type": "code",
   "execution_count": 20,
   "id": "8a0fc3e6",
   "metadata": {},
   "outputs": [
    {
     "name": "stdout",
     "output_type": "stream",
     "text": [
      "['Neue Promenade 3 Berlin', 'Dircksenstrasse 2 Berlin', 'Alexanderplatz 2 Berlin', 'Grunerstrasse 20 Berlin', 'Friedrichstrasse 96 Berlin', 'Friedrichstrasse 110 111 Berlin', 'Friedrichstrasse 61 Berlin', 'Pariser Platz 4a Berlin', 'Europaplatz 1 Berlin', 'Muhlenstrasse 3 100 Berlin', 'Schoenhauser Allee 78 80 10439 Berlin Berlin', 'Warschauer Strasse Berlin', 'Hadenbergplatz 11 Berlin', 'Kurfuerstendamm 231 Berlin', 'Joachimsthaler Str 3 Berlin', 'Kurfuerstendamm 224 10719 Berlin Berlin', 'Kurfuerstendamm 61 Berlin']\n"
     ]
    }
   ],
   "source": [
    "print(results)"
   ]
  },
  {
   "cell_type": "code",
   "execution_count": 22,
   "id": "ec7ab13e",
   "metadata": {},
   "outputs": [
    {
     "data": {
      "text/plain": [
       "17"
      ]
     },
     "execution_count": 22,
     "metadata": {},
     "output_type": "execute_result"
    }
   ],
   "source": [
    "len(results)"
   ]
  },
  {
   "cell_type": "code",
   "execution_count": 24,
   "id": "76421e1a",
   "metadata": {},
   "outputs": [],
   "source": [
    "#In original project the address was in 2 lines, on the 2025 version\n",
    "#only one line with the address and City, have to separate properly\n",
    "with open('Restaurants.csv', mode='w', newline='')as outputFile:\n",
    "    restaurantCSV = csv.writer(outputFile, delimiter=',', quotechar='\"', quoting = csv.QUOTE_MINIMAL)\n",
    "    restaurantCSV.writerow(['restaurant','street','city','country'])\n",
    "    restaurantName = 'Starbucks'\n",
    "    country='Germany'\n",
    "    for restaurant in results:\n",
    "        street = restaurant.split(\"\\n\")[0]\n",
    "        #zipCode = restaurant.split(\"\\n\")[1][0:5]\n",
    "        city = 'Berlin'\n",
    "        restaurantCSV.writerow([restaurantName, street, city, country])"
   ]
  },
  {
   "cell_type": "code",
   "execution_count": null,
   "id": "30844263",
   "metadata": {},
   "outputs": [],
   "source": []
  }
 ],
 "metadata": {
  "kernelspec": {
   "display_name": "Python 3 (ipykernel)",
   "language": "python",
   "name": "python3"
  },
  "language_info": {
   "codemirror_mode": {
    "name": "ipython",
    "version": 3
   },
   "file_extension": ".py",
   "mimetype": "text/x-python",
   "name": "python",
   "nbconvert_exporter": "python",
   "pygments_lexer": "ipython3",
   "version": "3.11.4"
  }
 },
 "nbformat": 4,
 "nbformat_minor": 5
}
